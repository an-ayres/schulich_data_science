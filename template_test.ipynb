{
 "cells": [
  {
   "cell_type": "code",
   "execution_count": null,
   "metadata": {},
   "outputs": [],
   "source": [
    "# EDA Hypothesis: \"Employees with lower job satisfaction and longer distances from the office are more likely to leave the company.\"\n",
    "# Check the distribution of job satisfaction scores for employees who have left versus those who have stayed.\n",
    "# Compare the average distance from the office for employees who have left versus those who have stayed.\n",
    "sns.boxplot(x='Attrition', y='Job Satisfaction', data=data)\n",
    "plt.title('Job Satisfaction vs. Attrition')\n",
    "plt.show()\n",
    "\n",
    "sns.boxplot(x='Attrition', y='Distance from Office', data=data)\n",
    "plt.title('Distance from Office vs. Attrition')\n",
    "plt.show()\n",
    "\n",
    "\n",
    "\n",
    "# statistical testing \n",
    "# Perform statistical tests (e.g., t-tests) to determine if the differences in job satisfaction and distance from \n",
    "# the office between the two groups are statistically significant.\n",
    "from scipy.stats import ttest_ind\n",
    "\n",
    "left = data[data['Attrition'] == 'Yes']\n",
    "stayed = data[data['Attrition'] == 'No']\n",
    "\n",
    "t_stat, p_val = ttest_ind(left['Job Satisfaction'], stayed['Job Satisfaction'])\n",
    "print(f\"T-statistic: {t_stat}, P-value: {p_val}\")\n",
    "\n",
    "t_stat, p_val = ttest_ind(left['Distance from Office'], stayed['Distance from Office'])\n",
    "print(f\"T-statistic: {t_stat}, P-value: {p_val}\")\n",
    "\n",
    "# feature engineering - Create interaction terms or new features based on the hypothesis.\n",
    "data['JobSatisfaction_DistanceInteraction'] = data['Job Satisfaction'] * data['Distance from Office']\n",
    "\n",
    "\n",
    "# now we can begin w/ model building - refer to other codes \n",
    "# example code but it is better to refer to the ones in the other documents \n",
    "features = ['Age', 'Monthly Income', 'Years at Company', 'Number of Promotions', 'Last Raise Percentage', 'Distance from Office', 'Job Satisfaction', 'Performance Rating', 'JobSatisfaction_DistanceInteraction']\n",
    "X = data[features]\n",
    "y = data['Attrition'].apply(lambda x: 1 if x == 'Yes' else 0) # This part of the code is making the responses from \n",
    "# yes and no to binary in order to simplify further steps along the line REPLACE IF THE DATA IS NOT BINARY \n",
    "X_train, X_test, y_train, y_test = train_test_split(X, y, test_size=0.3, random_state=42)\n",
    "\n",
    "model = RandomForestClassifier(random_state=42)\n",
    "model.fit(X_train, y_train)\n",
    "y_pred = model.predict(X_test)\n",
    "\n",
    "print(classification_report(y_test, y_pred))\n",
    "\n",
    "#cross evaluation is the f1st tep before running the model, once we have our variables, after this runs we begin the pipelines of models\n",
    "# we edit the classifier must leave the () even if there is nothing to place there\n",
    "# concentrate in EDA & feature engineering \n",
    "# grid search is validating the models - we only do it at the end once we have selected our model\n",
    "\n"
   ]
  }
 ],
 "metadata": {
  "language_info": {
   "name": "python"
  }
 },
 "nbformat": 4,
 "nbformat_minor": 2
}
