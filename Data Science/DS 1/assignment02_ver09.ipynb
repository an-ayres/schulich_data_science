{
 "cells": [
  {
   "cell_type": "code",
   "execution_count": 2,
   "metadata": {},
   "outputs": [],
   "source": [
    "import pandas as pd\n",
    "import numpy as np\n",
    "import matplotlib.pyplot as plt\n",
    "import seaborn as sns\n",
    "from sklearn.linear_model import LogisticRegression\n",
    "from sklearn.neighbors import KNeighborsClassifier, KNeighborsRegressor\n",
    "from sklearn.naive_bayes import GaussianNB\n",
    "from sklearn.model_selection import train_test_split, cross_val_score, GridSearchCV\n",
    "from sklearn.preprocessing import OneHotEncoder, MinMaxScaler\n",
    "from sklearn.pipeline import Pipeline\n",
    "from sklearn.compose import ColumnTransformer\n",
    "from sklearn.impute import KNNImputer\n",
    "from sklearn.metrics import f1_score, accuracy_score, precision_score, recall_score, PrecisionRecallDisplay, RocCurveDisplay\n",
    "from sklearn.metrics import f1_score, roc_curve, roc_auc_score, confusion_matrix, ConfusionMatrixDisplay, RocCurveDisplay"
   ]
  },
  {
   "cell_type": "code",
   "execution_count": 3,
   "metadata": {},
   "outputs": [
    {
     "name": "stdout",
     "output_type": "stream",
     "text": [
      "   customer_id   join_date last_purchase_date   age  gender           location\n",
      "0            1  2023-11-20         2024-03-17  56.0  Female  North Shannonbury\n",
      "1            2  2021-09-08         2023-10-25   NaN    Male          Hillville\n",
      "2            3  2021-06-01         2022-11-27   NaN     NaN   North Latoyatown\n",
      "3            4  2022-01-01         2022-09-01  29.0    Male          Grossstad\n",
      "4            5  2022-01-24         2023-06-02   NaN    Male   East Matthewfort\n",
      "   transaction_id  customer_id transaction_date  transaction_amount  \\\n",
      "0               1            1       2024-02-03              165.56   \n",
      "1               2            1       2024-03-02              699.01   \n",
      "2               3            1       2024-03-12              146.86   \n",
      "3               4            1       2024-01-20              927.46   \n",
      "4               5            1       2024-02-25             1395.87   \n",
      "\n",
      "  product_category  \n",
      "0         Clothing  \n",
      "1       Home Goods  \n",
      "2       Home Goods  \n",
      "3      Electronics  \n",
      "4      Electronics  \n",
      "   customer_id  number_of_site_visits  number_of_emails_opened  \\\n",
      "0            1                     10                       15   \n",
      "1            2                    285                       49   \n",
      "2            3                    192                       73   \n",
      "3            4                    110                       30   \n",
      "4            5                    161                        2   \n",
      "\n",
      "   number_of_clicks  \n",
      "0                 1  \n",
      "1                51  \n",
      "2                25  \n",
      "3                17  \n",
      "4                 7  \n",
      "   campaign_id  customer_id response   promotion_type campaign_date\n",
      "0            1            1       No  Buy One Get One    2024-02-29\n",
      "1            2            1       No         Discount    2024-01-24\n",
      "2            3            1       No    Free Shipping    2024-03-05\n",
      "3            4            1      Yes  Buy One Get One    2024-01-10\n",
      "4            5            2      Yes    Free Shipping    2022-07-08\n"
     ]
    }
   ],
   "source": [
    "# Loading data\n",
    "customers = pd.read_csv('https://raw.githubusercontent.com/delinai/schulich_ds1_2024/main/Datasets/customers_final.csv')\n",
    "transactions = pd.read_csv('https://raw.githubusercontent.com/delinai/schulich_ds1_2024/main/Datasets/transactions_final.csv')\n",
    "engagement = pd.read_csv('https://raw.githubusercontent.com/delinai/schulich_ds1_2024/main/Datasets/engagements_final.csv')\n",
    "marketing = pd.read_csv('https://raw.githubusercontent.com/delinai/schulich_ds1_2024/main/Datasets/marketing_final.csv')\n",
    "\n",
    "# Initial exploration\n",
    "print(customers.head())\n",
    "print(transactions.head())\n",
    "print(engagement.head())\n",
    "print(marketing.head())"
   ]
  },
  {
   "cell_type": "code",
   "execution_count": 12,
   "metadata": {},
   "outputs": [
    {
     "name": "stderr",
     "output_type": "stream",
     "text": [
      "C:\\Users\\aayre\\AppData\\Local\\Temp\\ipykernel_41956\\1267649384.py:5: FutureWarning: A value is trying to be set on a copy of a DataFrame or Series through chained assignment using an inplace method.\n",
      "The behavior will change in pandas 3.0. This inplace method will never work because the intermediate object on which we are setting values always behaves as a copy.\n",
      "\n",
      "For example, when doing 'df[col].method(value, inplace=True)', try using 'df.method({col: value}, inplace=True)' or df[col] = df[col].method(value) instead, to perform the operation inplace on the original object.\n",
      "\n",
      "\n",
      "  customers['age'].fillna(customers['age'].median(), inplace=True)\n",
      "C:\\Users\\aayre\\AppData\\Local\\Temp\\ipykernel_41956\\1267649384.py:6: FutureWarning: A value is trying to be set on a copy of a DataFrame or Series through chained assignment using an inplace method.\n",
      "The behavior will change in pandas 3.0. This inplace method will never work because the intermediate object on which we are setting values always behaves as a copy.\n",
      "\n",
      "For example, when doing 'df[col].method(value, inplace=True)', try using 'df.method({col: value}, inplace=True)' or df[col] = df[col].method(value) instead, to perform the operation inplace on the original object.\n",
      "\n",
      "\n",
      "  customers['gender'].fillna('Unknown', inplace=True)\n",
      "C:\\Users\\aayre\\AppData\\Local\\Temp\\ipykernel_41956\\1267649384.py:20: FutureWarning: A value is trying to be set on a copy of a DataFrame or Series through chained assignment using an inplace method.\n",
      "The behavior will change in pandas 3.0. This inplace method will never work because the intermediate object on which we are setting values always behaves as a copy.\n",
      "\n",
      "For example, when doing 'df[col].method(value, inplace=True)', try using 'df.method({col: value}, inplace=True)' or df[col] = df[col].method(value) instead, to perform the operation inplace on the original object.\n",
      "\n",
      "\n",
      "  customers['months_active'].replace(0, 1, inplace=True)\n"
     ]
    }
   ],
   "source": [
    "# DATA CLEANING AND PREPARATION\n",
    "\n",
    "# Data Preparation Approach\n",
    "# Handling missing values\n",
    "customers['age'].fillna(customers['age'].median(), inplace=True)\n",
    "customers['gender'].fillna('Unknown', inplace=True)\n",
    "\n",
    "# Converting dates to DateTime\n",
    "customers['join_date'] = pd.to_datetime(customers['join_date'])\n",
    "customers['last_purchase_date'] = pd.to_datetime(customers['last_purchase_date'])\n",
    "transactions['transaction_date'] = pd.to_datetime(transactions['transaction_date'])\n",
    "marketing['campaign_date'] = pd.to_datetime(marketing['campaign_date'])\n",
    "\n",
    "# Imputing missing values\n",
    "imputer = KNNImputer(n_neighbors=5)\n",
    "customers[['age']] = imputer.fit_transform(customers[['age']])\n",
    "\n",
    "# Calculating Months from Join Date to Last Purchase Date\n",
    "customers['months_active'] = (customers['last_purchase_date'] - customers['join_date']).dt.days // 30\n",
    "customers['months_active'].replace(0, 1, inplace=True)\n"
   ]
  },
  {
   "cell_type": "code",
   "execution_count": 13,
   "metadata": {},
   "outputs": [
    {
     "name": "stdout",
     "output_type": "stream",
     "text": [
      "   customer_id  join_date last_purchase_date   age   gender  \\\n",
      "0            1 2023-11-20         2024-03-17  56.0   Female   \n",
      "1            2 2021-09-08         2023-10-25  44.0     Male   \n",
      "2            3 2021-06-01         2022-11-27  44.0  Unknown   \n",
      "3            4 2022-01-01         2022-09-01  29.0     Male   \n",
      "4            5 2022-01-24         2023-06-02  44.0     Male   \n",
      "\n",
      "            location  months_active         CLV  recency  frequency  ...  \\\n",
      "0  North Shannonbury              3    0.000000      119          6  ...   \n",
      "1          Hillville             25  140.379200      263          9  ...   \n",
      "2   North Latoyatown             18  337.851111      595          6  ...   \n",
      "3          Grossstad              8  181.858750      682         20  ...   \n",
      "4   East Matthewfort             16  492.167500      408         24  ...   \n",
      "\n",
      "   avg_transaction_amount  total_transactions  avg_visit_per_transaction  \\\n",
      "0                0.000000                 0.0                   0.000000   \n",
      "1              584.913333                 6.0                  47.500000   \n",
      "2              675.702222                 9.0                  21.333333   \n",
      "3              242.478333                 6.0                  18.333333   \n",
      "4              393.734000                20.0                   8.050000   \n",
      "\n",
      "   positive_resp  number_of_site_visits_y  number_of_emails_opened_y  \\\n",
      "0            0.0                       10                         15   \n",
      "1            1.0                      285                         49   \n",
      "2            2.0                      192                         73   \n",
      "3            1.0                      110                         30   \n",
      "4            1.0                      161                          2   \n",
      "\n",
      "   number_of_clicks_y  number_of_site_visits  number_of_emails_opened  \\\n",
      "0                   1                     10                       15   \n",
      "1                  51                    285                       49   \n",
      "2                  25                    192                       73   \n",
      "3                  17                    110                       30   \n",
      "4                   7                    161                        2   \n",
      "\n",
      "   number_of_clicks  \n",
      "0                 1  \n",
      "1                51  \n",
      "2                25  \n",
      "3                17  \n",
      "4                 7  \n",
      "\n",
      "[5 rows x 28 columns]\n"
     ]
    },
    {
     "name": "stderr",
     "output_type": "stream",
     "text": [
      "C:\\Users\\aayre\\AppData\\Local\\Temp\\ipykernel_41956\\592720969.py:27: FutureWarning: A value is trying to be set on a copy of a DataFrame or Series through chained assignment using an inplace method.\n",
      "The behavior will change in pandas 3.0. This inplace method will never work because the intermediate object on which we are setting values always behaves as a copy.\n",
      "\n",
      "For example, when doing 'df[col].method(value, inplace=True)', try using 'df.method({col: value}, inplace=True)' or df[col] = df[col].method(value) instead, to perform the operation inplace on the original object.\n",
      "\n",
      "\n",
      "  customers['response_rate'].fillna(0, inplace=True)\n"
     ]
    }
   ],
   "source": [
    "# FEATURE ENGINEERING\n",
    "\n",
    "\n",
    "monthly_revenue = transactions.groupby('customer_id')['transaction_amount'].sum() / customers['months_active']\n",
    "customers['CLV'] = monthly_revenue\n",
    "\n",
    "# RFM analysis\n",
    "customers['recency'] = (pd.Timestamp.now() - customers['last_purchase_date']).dt.days\n",
    "frequency = transactions.groupby('customer_id').size()\n",
    "customers['frequency'] = customers['customer_id'].map(frequency)\n",
    "monetary = transactions.groupby('customer_id')['transaction_amount'].sum()\n",
    "customers['monetary'] = customers['customer_id'].map(monetary)\n",
    "\n",
    "# Merging with Engagement Data\n",
    "customers = customers.merge(engagement, on='customer_id', how='left')\n",
    "customers.fillna(0, inplace=True)\n",
    "\n",
    "# Positive Engagement Response\n",
    "customers['click_per_transaction'] = customers['number_of_clicks_y'] / customers['frequency'].replace(0, 1)\n",
    "customers['visit_per_transaction'] = customers['number_of_site_visits_y'] / customers['frequency'].replace(0, 1)\n",
    "customers['email_per_transaction'] = customers['number_of_emails_opened_y'] / customers['frequency'].replace(0, 1)\n",
    "\n",
    "# Calculating response rate\n",
    "positive_responses = marketing[marketing['response'] == 'Yes'].groupby('customer_id').size()\n",
    "total_responses = marketing.groupby('customer_id').size()\n",
    "customers['response_rate'] = customers['customer_id'].map(positive_responses) / customers['customer_id'].map(total_responses)\n",
    "customers['response_rate'].fillna(0, inplace=True)\n",
    "\n",
    "# Verify that all required columns are present\n",
    "print(customers.head())\n"
   ]
  },
  {
   "cell_type": "code",
   "execution_count": 14,
   "metadata": {},
   "outputs": [
    {
     "name": "stdout",
     "output_type": "stream",
     "text": [
      "Fitting 3 folds for each of 27 candidates, totalling 81 fits\n"
     ]
    }
   ],
   "source": [
    "# MODEL BUILDING AND EVALUATION\n",
    "\n",
    "\n",
    "\n",
    "# Splitting data into features and target variable\n",
    "X = customers[['age', 'gender', 'recency', 'frequency', 'response_rate', 'click_per_transaction']]\n",
    "y = customers['CLV']\n",
    "\n",
    "# One-hot encode the categorical variables\n",
    "X = pd.get_dummies(X, columns=['gender'], drop_first=True)\n",
    "\n",
    "# Splitting the data into training and testing sets\n",
    "X_train, X_test, y_train, y_test = train_test_split(X, y, test_size=0.2, random_state=42)\n",
    "\n",
    "# Linear Regression Model\n",
    "lr_model = LinearRegression()\n",
    "lr_model.fit(X_train, y_train)\n",
    "lr_preds = lr_model.predict(X_test)\n",
    "\n",
    "# Random Forest Regressor Model with Hyperparameter Tuning\n",
    "param_grid = {\n",
    "    'n_estimators': [100, 200, 300],\n",
    "    'max_depth': [10, 20, 30],\n",
    "    'min_samples_split': [2, 5, 10]\n",
    "}\n",
    "\n",
    "rf_model = RandomForestRegressor(random_state=42)\n",
    "grid_search = GridSearchCV(estimator=rf_model, param_grid=param_grid, cv=3, n_jobs=-1, verbose=2)\n",
    "grid_search.fit(X_train, y_train)\n",
    "best_rf_model = grid_search.best_estimator_\n",
    "rf_preds = best_rf_model.predict(X_test)"
   ]
  },
  {
   "cell_type": "code",
   "execution_count": 15,
   "metadata": {},
   "outputs": [
    {
     "name": "stdout",
     "output_type": "stream",
     "text": [
      "Linear Regression MSE: 10392378.446592022, R²: 0.04720108714689375\n",
      "Random Forest MSE: 7080322.433566194, R²: 0.3508585592777764\n"
     ]
    }
   ],
   "source": [
    "# Model Evaluation\n",
    "from sklearn.metrics import mean_squared_error, r2_score\n",
    "\n",
    "# Linear Regression Evaluation\n",
    "lr_mse = mean_squared_error(y_test, lr_preds)\n",
    "lr_r2 = r2_score(y_test, lr_preds)\n",
    "print(f'Linear Regression MSE: {lr_mse}, R²: {lr_r2}')\n",
    "\n",
    "# Random Forest Evaluation\n",
    "rf_mse = mean_squared_error(y_test, rf_preds)\n",
    "rf_r2 = r2_score(y_test, rf_preds)\n",
    "print(f'Random Forest MSE: {rf_mse}, R²: {rf_r2}')"
   ]
  },
  {
   "cell_type": "code",
   "execution_count": null,
   "metadata": {},
   "outputs": [],
   "source": []
  }
 ],
 "metadata": {
  "kernelspec": {
   "display_name": "Python 3",
   "language": "python",
   "name": "python3"
  },
  "language_info": {
   "codemirror_mode": {
    "name": "ipython",
    "version": 3
   },
   "file_extension": ".py",
   "mimetype": "text/x-python",
   "name": "python",
   "nbconvert_exporter": "python",
   "pygments_lexer": "ipython3",
   "version": "3.11.9"
  }
 },
 "nbformat": 4,
 "nbformat_minor": 2
}
