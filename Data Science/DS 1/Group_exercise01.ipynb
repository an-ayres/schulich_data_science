GROUP EXERCISE 
1. Using the new features we created, what insights can you find in the data? for example, what type of omes tend to be over/under priced?
2. How could you adjust the price_per_sqft calculation to take into account recency of sale? Try building a function -- then repeat your analysis, any changes? 

import pandas as pd